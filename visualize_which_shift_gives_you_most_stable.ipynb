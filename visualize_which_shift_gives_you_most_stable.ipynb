{
 "cells": [
  {
   "cell_type": "code",
   "execution_count": 1,
   "id": "b2279b00",
   "metadata": {},
   "outputs": [],
   "source": [
    "import pandas as pd\n",
    "import numpy as np\n",
    "import os\n",
    "import shutil\n",
    "import matplotlib.pyplot as plt\n",
    "import glob\n",
    "import numpy as np\n",
    "import os\n",
    "import glob\n",
    "import pickle\n",
    "import math\n",
    "import matplotlib.pyplot as plt\n",
    "import pandas as pd\n",
    "import itertools\n",
    "from numpy import array, dot, round, cross, ceil\n",
    "from numpy.linalg import inv, det, norm\n",
    "from numpy import cross, dot, ceil\n",
    "from numpy.linalg import norm, inv\n",
    "from csl_generator import getsigmas"
   ]
  },
  {
   "cell_type": "code",
   "execution_count": 2,
   "id": "afbadca0",
   "metadata": {},
   "outputs": [],
   "source": [
    "def get_most_stable_gbenergy_with_indice(filename):\n",
    "    system_energy = np.loadtxt(f\"{filename}\")[:,-1]\n",
    "    gbenergy = np.loadtxt(f\"{filename}\")[:,-2]\n",
    "    most_stable_gbenergy = gbenergy[system_energy.argmin()]\n",
    "    indice = np.loadtxt(f\"{filename}\")[:,1]\n",
    "    most_stable_indice = indice[system_energy.argmin()]\n",
    "    return int(most_stable_indice), most_stable_gbenergy"
   ]
  },
  {
   "cell_type": "code",
   "execution_count": 3,
   "id": "12ff4ec6",
   "metadata": {},
   "outputs": [],
   "source": [
    "def get_three_list(first_dirname):\n",
    "    indice_list = []\n",
    "    gbe_list = []\n",
    "    angle_list = []\n",
    "    for second_dirname in glob.glob(f\"{first_dirname}/*gb\"):\n",
    "        indice, gbe = get_most_stable_gbenergy_with_indice(f\"{second_dirname}/results\")\n",
    "        filename = second_dirname.split(\"/\")[-1]\n",
    "        angle = get_angle(filename)\n",
    "        indice_list.append(indice)\n",
    "        gbe_list.append(gbe)\n",
    "        angle_list.append(angle)\n",
    "    indice_list = np.array(indice_list,dtype=float)\n",
    "    angle_list = np.array(angle_list,dtype=float)\n",
    "    gbe_list = np.array(gbe_list,dtype=int)\n",
    "    return indice_list, gbe_list, angle_list"
   ]
  },
  {
   "cell_type": "code",
   "execution_count": 19,
   "id": "2f36878e",
   "metadata": {},
   "outputs": [],
   "source": [
    "filename = \"Mo100/2_1_0_gb/results\""
   ]
  },
  {
   "cell_type": "code",
   "execution_count": 28,
   "id": "3fbf6972",
   "metadata": {},
   "outputs": [],
   "source": [
    "def get_most_stable_gbenergy_for_each_indice(filename):\n",
    "    system_energy = np.loadtxt(f\"{filename}\")[:,-1]\n",
    "    gbenergy = np.loadtxt(f\"{filename}\")[:,-2]\n",
    "    # most_stable_gbenergy = gbenergy[system_energy.argmin()]\n",
    "    indice = np.loadtxt(f\"{filename}\")[:,1]\n",
    "    # most_stable_indice = indice[system_energy.argmin()]\n",
    "    most_stable_gbenergy_one = gbenergy[indice==1][system_energy[indice==1].argmin()]\n",
    "    most_stable_gbenergy_two = gbenergy[indice==2][system_energy[indice==2].argmin()]\n",
    "    return most_stable_gbenergy_one, most_stable_gbenergy_two"
   ]
  },
  {
   "cell_type": "code",
   "execution_count": 29,
   "id": "fa7daba3",
   "metadata": {},
   "outputs": [],
   "source": [
    "def get_angle(filename):\n",
    "    misangle_list = []\n",
    "    gbe_list = []\n",
    "    baselist = []\n",
    "    for i in list(itertools.permutations([1,-1,0])):\n",
    "        baselist.append(list(i))\n",
    "    # for filename in glob.glob(f\"{element_name}/*gb\"):\n",
    "    filename_dash = filename.split(\"/\")[-1]\n",
    "    gbname = filename_dash.split(\"_\")\n",
    "    gbname = gbname[1:-1]\n",
    "    gbname = list(map(float, gbname))\n",
    "    gbname = [-gbname[0],gbname[1],gbname[2]]\n",
    "    misorientation_list = []\n",
    "    for base in baselist:\n",
    "        cos = dot(gbname,base)/(norm(gbname)*norm(base))\n",
    "        mis_orientation = 2*(np.arccos(cos)/np.pi*180)\n",
    "        mis_orientation =  abs(mis_orientation)\n",
    "        misorientation_list.append(mis_orientation)\n",
    "    mis_angle = min(misorientation_list)\n",
    "    return mis_angle"
   ]
  },
  {
   "cell_type": "code",
   "execution_count": 33,
   "id": "383cebb2",
   "metadata": {},
   "outputs": [],
   "source": [
    "def get_100_angle(filename):\n",
    "    filename_dash = filename.split(\"/\")[-1]\n",
    "    gbname = filename_dash.split(\"_\")\n",
    "    gbname = gbname[:-1]\n",
    "    gbname = list(map(float, gbname))\n",
    "    tang = min([float(gbname[1])/float(gbname[0]),float(gbname[0])/float(gbname[1])])\n",
    "    mis_angle = 2*(np.arctan(tang)/np.pi*180)\n",
    "    return mis_angle"
   ]
  },
  {
   "cell_type": "code",
   "execution_count": null,
   "id": "84779aed",
   "metadata": {},
   "outputs": [],
   "source": []
  },
  {
   "cell_type": "code",
   "execution_count": 42,
   "id": "809483ee",
   "metadata": {},
   "outputs": [],
   "source": [
    "def get_three_value_list(first_dirname):\n",
    "    one_list = []\n",
    "    two_list = []\n",
    "    angle_list = []\n",
    "    for second_dirname in glob.glob(f\"{first_dirname}/*gb\"):\n",
    "        one, two = get_most_stable_gbenergy_for_each_indice(f\"{second_dirname}/results\")\n",
    "        filename = second_dirname.split(\"/\")[-1]\n",
    "        angle = get_100_angle(filename)\n",
    "        one_list.append(one)\n",
    "        two_list.append(two)\n",
    "        angle_list.append(angle)\n",
    "    one_list = np.array(one_list,dtype=float)\n",
    "    angle_list = np.array(angle_list,dtype=float)\n",
    "    two_list = np.array(two_list,dtype=int)\n",
    "    result = np.array([angle_list,one_list,two_list]).T\n",
    "    col_num = 0\n",
    "    result_sorted = result[np.argsort(result[:, col_num])]\n",
    "    result_sorted = np.vstack([np.array([0,0,0]),result_sorted,np.array([90,0,0])])\n",
    "    return result_sorted"
   ]
  },
  {
   "cell_type": "code",
   "execution_count": 38,
   "id": "0762cea5",
   "metadata": {},
   "outputs": [],
   "source": [
    "one, two, angle = get_three_value_list(\"Mo100\")"
   ]
  },
  {
   "cell_type": "code",
   "execution_count": 43,
   "id": "87275672",
   "metadata": {},
   "outputs": [],
   "source": [
    "result_sorted = get_three_value_list(\"Mo100\")"
   ]
  },
  {
   "cell_type": "code",
   "execution_count": null,
   "id": "08535145",
   "metadata": {},
   "outputs": [],
   "source": []
  },
  {
   "cell_type": "code",
   "execution_count": 45,
   "id": "a8e2a9fd",
   "metadata": {},
   "outputs": [
    {
     "data": {
      "text/plain": [
       "[<matplotlib.lines.Line2D at 0x2b78e5f9a4c0>]"
      ]
     },
     "execution_count": 45,
     "metadata": {},
     "output_type": "execute_result"
    },
    {
     "data": {
      "image/png": "[encoded data removed]",
      "text/plain": [
       "<Figure size 432x288 with 1 Axes>"
      ]
     },
     "metadata": {
      "needs_background": "light"
     },
     "output_type": "display_data"
    }
   ],
   "source": [
    "plt.plot(result_sorted[:,0], result_sorted[:,1])\n",
    "plt.plot(result_sorted[:,0], result_sorted[:,2])"
   ]
  },
  {
   "cell_type": "code",
   "execution_count": 46,
   "id": "a20a559e",
   "metadata": {},
   "outputs": [],
   "source": [
    "result_df = pd.DataFrame(result_sorted)"
   ]
  },
  {
   "cell_type": "code",
   "execution_count": 47,
   "id": "384d93f3",
   "metadata": {},
   "outputs": [],
   "source": [
    "result_df.to_excel(\"result_Mo100.xlsx\")"
   ]
  },
  {
   "cell_type": "code",
   "execution_count": null,
   "id": "85081c68",
   "metadata": {},
   "outputs": [],
   "source": []
  },
  {
   "cell_type": "code",
   "execution_count": null,
   "id": "073b8d48",
   "metadata": {},
   "outputs": [],
   "source": []
  },
  {
   "cell_type": "code",
   "execution_count": null,
   "id": "d8f334f3",
   "metadata": {},
   "outputs": [],
   "source": []
  },
  {
   "cell_type": "code",
   "execution_count": null,
   "id": "d0d96e57",
   "metadata": {},
   "outputs": [],
   "source": []
  }
 ],
 "metadata": {
  "kernelspec": {
   "display_name": "Python 3 (ipykernel)",
   "language": "python",
   "name": "python3"
  },
  "language_info": {
   "codemirror_mode": {
    "name": "ipython",
    "version": 3
   },
   "file_extension": ".py",
   "mimetype": "text/x-python",
   "name": "python",
   "nbconvert_exporter": "python",
   "pygments_lexer": "ipython3",
   "version": "3.8.3"
  }
 },
 "nbformat": 4,
 "nbformat_minor": 5
}
