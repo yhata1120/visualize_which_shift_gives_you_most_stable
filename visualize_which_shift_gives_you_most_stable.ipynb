{
 "cells": [
  {
   "cell_type": "code",
   "execution_count": 2,
   "id": "b2279b00",
   "metadata": {},
   "outputs": [],
   "source": [
    "import pandas as pd\n",
    "import numpy as np\n",
    "import os\n",
    "import shutil\n",
    "import matplotlib.pyplot as plt\n",
    "import glob\n",
    "import numpy as np\n",
    "import os\n",
    "import glob\n",
    "import pickle\n",
    "import math\n",
    "import matplotlib.pyplot as plt\n",
    "import pandas as pd\n",
    "import itertools\n",
    "from numpy import array, dot, round, cross, ceil\n",
    "from numpy.linalg import inv, det, norm\n",
    "from numpy import cross, dot, ceil\n",
    "from numpy.linalg import norm, inv\n",
    "from csl_generator import getsigmas"
   ]
  },
  {
   "cell_type": "code",
   "execution_count": null,
   "id": "afbadca0",
   "metadata": {},
   "outputs": [],
   "source": [
    "def get_most_stable_gbenergy_with_indice(filename):\n",
    "    system_energy = np.loadtxt(f\"{filename}\")[:,-1]\n",
    "    gbenergy = np.loadtxt(f\"{filename}\")[:,-2]\n",
    "    most_stable_gbenergy = gbenergy[system_energy.argmin()]\n",
    "    indice = np.loadtxt(f\"{filename}\")[:,1]\n",
    "    most_stable_indice = indice[system_energy.argmin()]\n",
    "    return int(most_stable_indice), most_stable_gbenergy"
   ]
  },
  {
   "cell_type": "code",
   "execution_count": null,
   "id": "12ff4ec6",
   "metadata": {},
   "outputs": [],
   "source": [
    "def get_three_list(first_dirname):\n",
    "    indice_list = []\n",
    "    gbe_list = []\n",
    "    angle_list = []\n",
    "    for second_dirname in glob.glob(f\"{first_dirname}/*gb\"):\n",
    "        indice, gbe = get_most_stable_gbenergy_with_indice(f\"{second_dirname}/results\")\n",
    "        filename = second_dirname.split(\"/\")[-1]\n",
    "        angle = get_angle(filename)\n",
    "        indice_list.append(indice)\n",
    "        gbe_list.append(gbe)\n",
    "        angle_list.append(angle)\n",
    "    indice_list = np.array(indice_list,dtype=float)\n",
    "    angle_list = np.array(angle_list,dtype=float)\n",
    "    gbe_list = np.array(gbe_list,dtype=int)\n",
    "    return indice_list, gbe_list, angle_list"
   ]
  },
  {
   "cell_type": "code",
   "execution_count": null,
   "id": "4d7e2883",
   "metadata": {},
   "outputs": [],
   "source": []
  },
  {
   "cell_type": "code",
   "execution_count": null,
   "id": "18f369a1",
   "metadata": {},
   "outputs": [],
   "source": [
    "plt.scatter(angle_list[indice_list==1],gbe_list[indice_list==1],label=\"0 shift\")\n",
    "plt.scatter(angle_list[indice_list==2],gbe_list[indice_list==2],label=\"shift\")\n",
    "plt.xlim([0,60])\n",
    "plt.ylim([0,1600])\n",
    "plt.xlabel(\"tilt angle\")\n",
    "plt.ylabel(\"gbenergy\")\n",
    "plt.legend()"
   ]
  },
  {
   "cell_type": "code",
   "execution_count": null,
   "id": "fa7daba3",
   "metadata": {},
   "outputs": [],
   "source": [
    "def get_angle(filename):\n",
    "    misangle_list = []\n",
    "    gbe_list = []\n",
    "    baselist = []\n",
    "    for i in list(itertools.permutations([1,-1,0])):\n",
    "        baselist.append(list(i))\n",
    "    # for filename in glob.glob(f\"{element_name}/*gb\"):\n",
    "    filename_dash = filename.split(\"/\")[-1]\n",
    "    gbname = filename_dash.split(\"_\")\n",
    "    gbname = gbname[1:-1]\n",
    "    gbname = list(map(float, gbname))\n",
    "    gbname = [-gbname[0],gbname[1],gbname[2]]\n",
    "    misorientation_list = []\n",
    "    for base in baselist:\n",
    "        cos = dot(gbname,base)/(norm(gbname)*norm(base))\n",
    "        mis_orientation = 2*(np.arccos(cos)/np.pi*180)\n",
    "        mis_orientation =  abs(mis_orientation)\n",
    "        misorientation_list.append(mis_orientation)\n",
    "    mis_angle = min(misorientation_list)\n",
    "    return mis_angle"
   ]
  },
  {
   "cell_type": "code",
   "execution_count": null,
   "id": "809483ee",
   "metadata": {},
   "outputs": [],
   "source": []
  },
  {
   "cell_type": "code",
   "execution_count": 3,
   "id": "90b871b1",
   "metadata": {},
   "outputs": [
    {
     "data": {
      "text/plain": [
       "'/homenfs1/yhata/calc/220628'"
      ]
     },
     "execution_count": 3,
     "metadata": {},
     "output_type": "execute_result"
    }
   ],
   "source": [
    "os.getcwd()"
   ]
  },
  {
   "cell_type": "code",
   "execution_count": null,
   "id": "0762cea5",
   "metadata": {},
   "outputs": [],
   "source": []
  },
  {
   "cell_type": "code",
   "execution_count": null,
   "id": "a8e2a9fd",
   "metadata": {},
   "outputs": [],
   "source": []
  },
  {
   "cell_type": "code",
   "execution_count": null,
   "id": "a20a559e",
   "metadata": {},
   "outputs": [],
   "source": []
  },
  {
   "cell_type": "code",
   "execution_count": null,
   "id": "384d93f3",
   "metadata": {},
   "outputs": [],
   "source": []
  },
  {
   "cell_type": "code",
   "execution_count": null,
   "id": "85081c68",
   "metadata": {},
   "outputs": [],
   "source": []
  },
  {
   "cell_type": "code",
   "execution_count": null,
   "id": "073b8d48",
   "metadata": {},
   "outputs": [],
   "source": []
  },
  {
   "cell_type": "code",
   "execution_count": null,
   "id": "d8f334f3",
   "metadata": {},
   "outputs": [],
   "source": []
  },
  {
   "cell_type": "code",
   "execution_count": null,
   "id": "d0d96e57",
   "metadata": {},
   "outputs": [],
   "source": []
  }
 ],
 "metadata": {
  "kernelspec": {
   "display_name": "Python 3 (ipykernel)",
   "language": "python",
   "name": "python3"
  },
  "language_info": {
   "codemirror_mode": {
    "name": "ipython",
    "version": 3
   },
   "file_extension": ".py",
   "mimetype": "text/x-python",
   "name": "python",
   "nbconvert_exporter": "python",
   "pygments_lexer": "ipython3",
   "version": "3.8.3"
  }
 },
 "nbformat": 4,
 "nbformat_minor": 5
}
